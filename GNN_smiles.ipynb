{
  "nbformat": 4,
  "nbformat_minor": 0,
  "metadata": {
    "colab": {
      "provenance": [],
      "gpuType": "T4"
    },
    "kernelspec": {
      "name": "python3",
      "display_name": "Python 3"
    },
    "language_info": {
      "name": "python"
    },
    "accelerator": "GPU"
  },
  "cells": [
    {
      "cell_type": "markdown",
      "source": [
        "# **GNN for drug affinity classification**"
      ],
      "metadata": {
        "id": "bhBnwcRyvxDG"
      }
    },
    {
      "cell_type": "markdown",
      "source": [
        "## Notebook setup and installing necessary libraries"
      ],
      "metadata": {
        "id": "eTgtAN6PXYOa"
      }
    },
    {
      "cell_type": "code",
      "source": [
        "!pip install rdkit"
      ],
      "metadata": {
        "id": "jwFOwfEJeBXg",
        "colab": {
          "base_uri": "https://localhost:8080/"
        },
        "outputId": "91f46b34-b88e-48b3-faf8-fc699681f2a5"
      },
      "execution_count": null,
      "outputs": [
        {
          "output_type": "stream",
          "name": "stdout",
          "text": [
            "Collecting rdkit\n",
            "  Downloading rdkit-2024.3.6-cp310-cp310-manylinux_2_28_x86_64.whl.metadata (4.0 kB)\n",
            "Requirement already satisfied: numpy in /usr/local/lib/python3.10/dist-packages (from rdkit) (1.26.4)\n",
            "Requirement already satisfied: Pillow in /usr/local/lib/python3.10/dist-packages (from rdkit) (11.0.0)\n",
            "Downloading rdkit-2024.3.6-cp310-cp310-manylinux_2_28_x86_64.whl (32.8 MB)\n",
            "\u001b[2K   \u001b[90m━━━━━━━━━━━━━━━━━━━━━━━━━━━━━━━━━━━━━━━━\u001b[0m \u001b[32m32.8/32.8 MB\u001b[0m \u001b[31m15.9 MB/s\u001b[0m eta \u001b[36m0:00:00\u001b[0m\n",
            "\u001b[?25hInstalling collected packages: rdkit\n",
            "Successfully installed rdkit-2024.3.6\n"
          ]
        }
      ]
    },
    {
      "cell_type": "code",
      "source": [
        "!pip install torch-geometric"
      ],
      "metadata": {
        "colab": {
          "base_uri": "https://localhost:8080/"
        },
        "id": "2LZZK_6xCNMh",
        "outputId": "2022f4ac-9084-4a61-b32c-e2a4271ddc5f"
      },
      "execution_count": null,
      "outputs": [
        {
          "output_type": "stream",
          "name": "stdout",
          "text": [
            "Collecting torch-geometric\n",
            "  Downloading torch_geometric-2.6.1-py3-none-any.whl.metadata (63 kB)\n",
            "\u001b[?25l     \u001b[90m━━━━━━━━━━━━━━━━━━━━━━━━━━━━━━━━━━━━━━━━\u001b[0m \u001b[32m0.0/63.1 kB\u001b[0m \u001b[31m?\u001b[0m eta \u001b[36m-:--:--\u001b[0m\r\u001b[2K     \u001b[90m━━━━━━━━━━━━━━━━━━━━━━━━━━━━━━━━━━━━━━━━\u001b[0m \u001b[32m63.1/63.1 kB\u001b[0m \u001b[31m5.6 MB/s\u001b[0m eta \u001b[36m0:00:00\u001b[0m\n",
            "\u001b[?25hRequirement already satisfied: aiohttp in /usr/local/lib/python3.10/dist-packages (from torch-geometric) (3.11.2)\n",
            "Requirement already satisfied: fsspec in /usr/local/lib/python3.10/dist-packages (from torch-geometric) (2024.10.0)\n",
            "Requirement already satisfied: jinja2 in /usr/local/lib/python3.10/dist-packages (from torch-geometric) (3.1.4)\n",
            "Requirement already satisfied: numpy in /usr/local/lib/python3.10/dist-packages (from torch-geometric) (1.26.4)\n",
            "Requirement already satisfied: psutil>=5.8.0 in /usr/local/lib/python3.10/dist-packages (from torch-geometric) (5.9.5)\n",
            "Requirement already satisfied: pyparsing in /usr/local/lib/python3.10/dist-packages (from torch-geometric) (3.2.0)\n",
            "Requirement already satisfied: requests in /usr/local/lib/python3.10/dist-packages (from torch-geometric) (2.32.3)\n",
            "Requirement already satisfied: tqdm in /usr/local/lib/python3.10/dist-packages (from torch-geometric) (4.66.6)\n",
            "Requirement already satisfied: aiohappyeyeballs>=2.3.0 in /usr/local/lib/python3.10/dist-packages (from aiohttp->torch-geometric) (2.4.3)\n",
            "Requirement already satisfied: aiosignal>=1.1.2 in /usr/local/lib/python3.10/dist-packages (from aiohttp->torch-geometric) (1.3.1)\n",
            "Requirement already satisfied: attrs>=17.3.0 in /usr/local/lib/python3.10/dist-packages (from aiohttp->torch-geometric) (24.2.0)\n",
            "Requirement already satisfied: frozenlist>=1.1.1 in /usr/local/lib/python3.10/dist-packages (from aiohttp->torch-geometric) (1.5.0)\n",
            "Requirement already satisfied: multidict<7.0,>=4.5 in /usr/local/lib/python3.10/dist-packages (from aiohttp->torch-geometric) (6.1.0)\n",
            "Requirement already satisfied: propcache>=0.2.0 in /usr/local/lib/python3.10/dist-packages (from aiohttp->torch-geometric) (0.2.0)\n",
            "Requirement already satisfied: yarl<2.0,>=1.17.0 in /usr/local/lib/python3.10/dist-packages (from aiohttp->torch-geometric) (1.17.2)\n",
            "Requirement already satisfied: async-timeout<6.0,>=4.0 in /usr/local/lib/python3.10/dist-packages (from aiohttp->torch-geometric) (4.0.3)\n",
            "Requirement already satisfied: MarkupSafe>=2.0 in /usr/local/lib/python3.10/dist-packages (from jinja2->torch-geometric) (3.0.2)\n",
            "Requirement already satisfied: charset-normalizer<4,>=2 in /usr/local/lib/python3.10/dist-packages (from requests->torch-geometric) (3.4.0)\n",
            "Requirement already satisfied: idna<4,>=2.5 in /usr/local/lib/python3.10/dist-packages (from requests->torch-geometric) (3.10)\n",
            "Requirement already satisfied: urllib3<3,>=1.21.1 in /usr/local/lib/python3.10/dist-packages (from requests->torch-geometric) (2.2.3)\n",
            "Requirement already satisfied: certifi>=2017.4.17 in /usr/local/lib/python3.10/dist-packages (from requests->torch-geometric) (2024.8.30)\n",
            "Requirement already satisfied: typing-extensions>=4.1.0 in /usr/local/lib/python3.10/dist-packages (from multidict<7.0,>=4.5->aiohttp->torch-geometric) (4.12.2)\n",
            "Downloading torch_geometric-2.6.1-py3-none-any.whl (1.1 MB)\n",
            "\u001b[2K   \u001b[90m━━━━━━━━━━━━━━━━━━━━━━━━━━━━━━━━━━━━━━━━\u001b[0m \u001b[32m1.1/1.1 MB\u001b[0m \u001b[31m54.7 MB/s\u001b[0m eta \u001b[36m0:00:00\u001b[0m\n",
            "\u001b[?25hInstalling collected packages: torch-geometric\n",
            "Successfully installed torch-geometric-2.6.1\n"
          ]
        }
      ]
    },
    {
      "cell_type": "code",
      "execution_count": null,
      "metadata": {
        "id": "BwNZK-X2XT6S"
      },
      "outputs": [],
      "source": [
        "import pandas as pd\n",
        "import numpy as np\n",
        "import matplotlib.pyplot as plt\n",
        "import matplotlib.colors as mcolors\n",
        "import collections\n",
        "\n",
        "import rdkit\n",
        "from rdkit import Chem\n",
        "from rdkit.Chem import Draw, AllChem, rdMolAlign\n",
        "from rdkit import RDConfig\n",
        "from rdkit.Chem.FeatMaps import FeatMaps\n",
        "from sklearn.model_selection import train_test_split\n",
        "import networkx as nx\n",
        "from torch_geometric.utils import from_networkx\n",
        "import torch"
      ]
    },
    {
      "cell_type": "markdown",
      "source": [
        "## Downloading the data"
      ],
      "metadata": {
        "id": "jX6aOtSYXuvl"
      }
    },
    {
      "cell_type": "code",
      "source": [
        "!wget https://raw.githubusercontent.com/dgront/chem-ml/main/INPUTS/data/cyp1a2_veith.tab"
      ],
      "metadata": {
        "id": "rhdbrQstXeZQ",
        "colab": {
          "base_uri": "https://localhost:8080/"
        },
        "outputId": "aa0abc7d-31ca-4d5b-8c13-e70478605d78"
      },
      "execution_count": null,
      "outputs": [
        {
          "output_type": "stream",
          "name": "stdout",
          "text": [
            "--2024-11-26 19:01:47--  https://raw.githubusercontent.com/dgront/chem-ml/main/INPUTS/data/cyp1a2_veith.tab\n",
            "Resolving raw.githubusercontent.com (raw.githubusercontent.com)... 185.199.108.133, 185.199.109.133, 185.199.110.133, ...\n",
            "Connecting to raw.githubusercontent.com (raw.githubusercontent.com)|185.199.108.133|:443... connected.\n",
            "HTTP request sent, awaiting response... 200 OK\n",
            "Length: 760372 (743K) [text/plain]\n",
            "Saving to: ‘cyp1a2_veith.tab’\n",
            "\n",
            "cyp1a2_veith.tab    100%[===================>] 742.55K  4.08MB/s    in 0.2s    \n",
            "\n",
            "2024-11-26 19:01:47 (4.08 MB/s) - ‘cyp1a2_veith.tab’ saved [760372/760372]\n",
            "\n"
          ]
        }
      ]
    },
    {
      "cell_type": "code",
      "source": [
        "!mv cyp1a2_veith.tab data.tab"
      ],
      "metadata": {
        "id": "wuujJAsxXiQX"
      },
      "execution_count": null,
      "outputs": []
    },
    {
      "cell_type": "code",
      "source": [
        "!head data.tab"
      ],
      "metadata": {
        "id": "BMKa0KfOXoaP",
        "colab": {
          "base_uri": "https://localhost:8080/"
        },
        "outputId": "720b4f6e-5302-4210-8935-c40e2736f1a6"
      },
      "execution_count": null,
      "outputs": [
        {
          "output_type": "stream",
          "name": "stdout",
          "text": [
            "Drug_ID\tDrug\tY\n",
            "6602638.0\t\"CCCC(=O)Nc1ccc(N2CCN(CC)CC2)c(Cl)c1.Cl\"\t0\n",
            "644510.0\t\"O=c1[nH]c2cc3c(cc2cc1CN(CCCO)Cc1nnnn1Cc1ccc(F)cc1)OCO3\"\t1\n",
            "1960010.0\t\"CCN1C(=O)/C(=C2\\SC(=S)N(CCCOC)C2=O)c2ccccc21\"\t1\n",
            "644675.0\t\"CC(=O)N(c1ccc2oc(=O)sc2c1)S(=O)(=O)c1cccs1\"\t1\n",
            "644851.0\t\"Clc1ccccc1-c1nc(-c2ccccc2)n[nH]1\"\t1\n",
            "644968.0\t\"COc1ccccc1CNC(=O)Cn1nnc(-c2ccncc2)n1\"\t1\n",
            "6602688.0\t\"Br.N=c1n(CCN2CCOCC2)c2ccccc2n1CC(=O)c1ccc(Cl)c(Cl)c1\"\t1\n",
            "5768708.0\t\"COc1ccc(/C(O)=C2/C(=O)C(=O)N(CCCC(=O)O)C2c2ccc(OC)cc2)cc1\"\t0\n",
            "645323.0\t\"COc1ccc(Nc2nc(N)nc(CSc3n[nH]c(-c4ccccc4)n3)n2)cc1\"\t1\n"
          ]
        }
      ]
    },
    {
      "cell_type": "markdown",
      "source": [
        "## Data analysys"
      ],
      "metadata": {
        "id": "eD2plcTLYA6k"
      }
    },
    {
      "cell_type": "code",
      "source": [
        "df = pd.read_csv('data.tab', sep='\\t', names=['id', 'smiles', 'label'], header=0)\n",
        "df.info()"
      ],
      "metadata": {
        "id": "nPx_-asEXro3",
        "colab": {
          "base_uri": "https://localhost:8080/"
        },
        "outputId": "7c9ce783-7f53-48cc-d640-08d7c33f0723"
      },
      "execution_count": null,
      "outputs": [
        {
          "output_type": "stream",
          "name": "stdout",
          "text": [
            "<class 'pandas.core.frame.DataFrame'>\n",
            "RangeIndex: 12579 entries, 0 to 12578\n",
            "Data columns (total 3 columns):\n",
            " #   Column  Non-Null Count  Dtype  \n",
            "---  ------  --------------  -----  \n",
            " 0   id      12579 non-null  float64\n",
            " 1   smiles  12579 non-null  object \n",
            " 2   label   12579 non-null  int64  \n",
            "dtypes: float64(1), int64(1), object(1)\n",
            "memory usage: 294.9+ KB\n"
          ]
        }
      ]
    },
    {
      "cell_type": "code",
      "source": [
        "print((df.label == 0).sum())\n",
        "print((df.label == 1).sum())"
      ],
      "metadata": {
        "colab": {
          "base_uri": "https://localhost:8080/"
        },
        "id": "EY9_ekRiTkqo",
        "outputId": "f8f1ebbc-5d68-4a71-93e1-ebb8e7169c3e"
      },
      "execution_count": null,
      "outputs": [
        {
          "output_type": "stream",
          "name": "stdout",
          "text": [
            "6750\n",
            "5829\n"
          ]
        }
      ]
    },
    {
      "cell_type": "code",
      "source": [
        "df.head(10)"
      ],
      "metadata": {
        "id": "VSvtij5EZIvc",
        "colab": {
          "base_uri": "https://localhost:8080/",
          "height": 363
        },
        "outputId": "4be171b3-3a67-4b2a-d702-671d1e39fe26"
      },
      "execution_count": null,
      "outputs": [
        {
          "output_type": "execute_result",
          "data": {
            "text/plain": [
              "          id                                             smiles  label\n",
              "0  6602638.0             CCCC(=O)Nc1ccc(N2CCN(CC)CC2)c(Cl)c1.Cl      0\n",
              "1   644510.0  O=c1[nH]c2cc3c(cc2cc1CN(CCCO)Cc1nnnn1Cc1ccc(F)...      1\n",
              "2  1960010.0       CCN1C(=O)/C(=C2\\SC(=S)N(CCCOC)C2=O)c2ccccc21      1\n",
              "3   644675.0         CC(=O)N(c1ccc2oc(=O)sc2c1)S(=O)(=O)c1cccs1      1\n",
              "4   644851.0                   Clc1ccccc1-c1nc(-c2ccccc2)n[nH]1      1\n",
              "5   644968.0               COc1ccccc1CNC(=O)Cn1nnc(-c2ccncc2)n1      1\n",
              "6  6602688.0  Br.N=c1n(CCN2CCOCC2)c2ccccc2n1CC(=O)c1ccc(Cl)c...      1\n",
              "7  5768708.0  COc1ccc(/C(O)=C2/C(=O)C(=O)N(CCCC(=O)O)C2c2ccc...      0\n",
              "8   645323.0  COc1ccc(Nc2nc(N)nc(CSc3n[nH]c(-c4ccccc4)n3)n2)cc1      1\n",
              "9   645573.0          CCN(CC)C(=O)CSc1nnc(-c2cc3ccccc3cc2O)n1CC      1"
            ],
            "text/html": [
              "\n",
              "  <div id=\"df-1a8f86a2-6ed8-4b6c-81a1-e3f917283b4c\" class=\"colab-df-container\">\n",
              "    <div>\n",
              "<style scoped>\n",
              "    .dataframe tbody tr th:only-of-type {\n",
              "        vertical-align: middle;\n",
              "    }\n",
              "\n",
              "    .dataframe tbody tr th {\n",
              "        vertical-align: top;\n",
              "    }\n",
              "\n",
              "    .dataframe thead th {\n",
              "        text-align: right;\n",
              "    }\n",
              "</style>\n",
              "<table border=\"1\" class=\"dataframe\">\n",
              "  <thead>\n",
              "    <tr style=\"text-align: right;\">\n",
              "      <th></th>\n",
              "      <th>id</th>\n",
              "      <th>smiles</th>\n",
              "      <th>label</th>\n",
              "    </tr>\n",
              "  </thead>\n",
              "  <tbody>\n",
              "    <tr>\n",
              "      <th>0</th>\n",
              "      <td>6602638.0</td>\n",
              "      <td>CCCC(=O)Nc1ccc(N2CCN(CC)CC2)c(Cl)c1.Cl</td>\n",
              "      <td>0</td>\n",
              "    </tr>\n",
              "    <tr>\n",
              "      <th>1</th>\n",
              "      <td>644510.0</td>\n",
              "      <td>O=c1[nH]c2cc3c(cc2cc1CN(CCCO)Cc1nnnn1Cc1ccc(F)...</td>\n",
              "      <td>1</td>\n",
              "    </tr>\n",
              "    <tr>\n",
              "      <th>2</th>\n",
              "      <td>1960010.0</td>\n",
              "      <td>CCN1C(=O)/C(=C2\\SC(=S)N(CCCOC)C2=O)c2ccccc21</td>\n",
              "      <td>1</td>\n",
              "    </tr>\n",
              "    <tr>\n",
              "      <th>3</th>\n",
              "      <td>644675.0</td>\n",
              "      <td>CC(=O)N(c1ccc2oc(=O)sc2c1)S(=O)(=O)c1cccs1</td>\n",
              "      <td>1</td>\n",
              "    </tr>\n",
              "    <tr>\n",
              "      <th>4</th>\n",
              "      <td>644851.0</td>\n",
              "      <td>Clc1ccccc1-c1nc(-c2ccccc2)n[nH]1</td>\n",
              "      <td>1</td>\n",
              "    </tr>\n",
              "    <tr>\n",
              "      <th>5</th>\n",
              "      <td>644968.0</td>\n",
              "      <td>COc1ccccc1CNC(=O)Cn1nnc(-c2ccncc2)n1</td>\n",
              "      <td>1</td>\n",
              "    </tr>\n",
              "    <tr>\n",
              "      <th>6</th>\n",
              "      <td>6602688.0</td>\n",
              "      <td>Br.N=c1n(CCN2CCOCC2)c2ccccc2n1CC(=O)c1ccc(Cl)c...</td>\n",
              "      <td>1</td>\n",
              "    </tr>\n",
              "    <tr>\n",
              "      <th>7</th>\n",
              "      <td>5768708.0</td>\n",
              "      <td>COc1ccc(/C(O)=C2/C(=O)C(=O)N(CCCC(=O)O)C2c2ccc...</td>\n",
              "      <td>0</td>\n",
              "    </tr>\n",
              "    <tr>\n",
              "      <th>8</th>\n",
              "      <td>645323.0</td>\n",
              "      <td>COc1ccc(Nc2nc(N)nc(CSc3n[nH]c(-c4ccccc4)n3)n2)cc1</td>\n",
              "      <td>1</td>\n",
              "    </tr>\n",
              "    <tr>\n",
              "      <th>9</th>\n",
              "      <td>645573.0</td>\n",
              "      <td>CCN(CC)C(=O)CSc1nnc(-c2cc3ccccc3cc2O)n1CC</td>\n",
              "      <td>1</td>\n",
              "    </tr>\n",
              "  </tbody>\n",
              "</table>\n",
              "</div>\n",
              "    <div class=\"colab-df-buttons\">\n",
              "\n",
              "  <div class=\"colab-df-container\">\n",
              "    <button class=\"colab-df-convert\" onclick=\"convertToInteractive('df-1a8f86a2-6ed8-4b6c-81a1-e3f917283b4c')\"\n",
              "            title=\"Convert this dataframe to an interactive table.\"\n",
              "            style=\"display:none;\">\n",
              "\n",
              "  <svg xmlns=\"http://www.w3.org/2000/svg\" height=\"24px\" viewBox=\"0 -960 960 960\">\n",
              "    <path d=\"M120-120v-720h720v720H120Zm60-500h600v-160H180v160Zm220 220h160v-160H400v160Zm0 220h160v-160H400v160ZM180-400h160v-160H180v160Zm440 0h160v-160H620v160ZM180-180h160v-160H180v160Zm440 0h160v-160H620v160Z\"/>\n",
              "  </svg>\n",
              "    </button>\n",
              "\n",
              "  <style>\n",
              "    .colab-df-container {\n",
              "      display:flex;\n",
              "      gap: 12px;\n",
              "    }\n",
              "\n",
              "    .colab-df-convert {\n",
              "      background-color: #E8F0FE;\n",
              "      border: none;\n",
              "      border-radius: 50%;\n",
              "      cursor: pointer;\n",
              "      display: none;\n",
              "      fill: #1967D2;\n",
              "      height: 32px;\n",
              "      padding: 0 0 0 0;\n",
              "      width: 32px;\n",
              "    }\n",
              "\n",
              "    .colab-df-convert:hover {\n",
              "      background-color: #E2EBFA;\n",
              "      box-shadow: 0px 1px 2px rgba(60, 64, 67, 0.3), 0px 1px 3px 1px rgba(60, 64, 67, 0.15);\n",
              "      fill: #174EA6;\n",
              "    }\n",
              "\n",
              "    .colab-df-buttons div {\n",
              "      margin-bottom: 4px;\n",
              "    }\n",
              "\n",
              "    [theme=dark] .colab-df-convert {\n",
              "      background-color: #3B4455;\n",
              "      fill: #D2E3FC;\n",
              "    }\n",
              "\n",
              "    [theme=dark] .colab-df-convert:hover {\n",
              "      background-color: #434B5C;\n",
              "      box-shadow: 0px 1px 3px 1px rgba(0, 0, 0, 0.15);\n",
              "      filter: drop-shadow(0px 1px 2px rgba(0, 0, 0, 0.3));\n",
              "      fill: #FFFFFF;\n",
              "    }\n",
              "  </style>\n",
              "\n",
              "    <script>\n",
              "      const buttonEl =\n",
              "        document.querySelector('#df-1a8f86a2-6ed8-4b6c-81a1-e3f917283b4c button.colab-df-convert');\n",
              "      buttonEl.style.display =\n",
              "        google.colab.kernel.accessAllowed ? 'block' : 'none';\n",
              "\n",
              "      async function convertToInteractive(key) {\n",
              "        const element = document.querySelector('#df-1a8f86a2-6ed8-4b6c-81a1-e3f917283b4c');\n",
              "        const dataTable =\n",
              "          await google.colab.kernel.invokeFunction('convertToInteractive',\n",
              "                                                    [key], {});\n",
              "        if (!dataTable) return;\n",
              "\n",
              "        const docLinkHtml = 'Like what you see? Visit the ' +\n",
              "          '<a target=\"_blank\" href=https://colab.research.google.com/notebooks/data_table.ipynb>data table notebook</a>'\n",
              "          + ' to learn more about interactive tables.';\n",
              "        element.innerHTML = '';\n",
              "        dataTable['output_type'] = 'display_data';\n",
              "        await google.colab.output.renderOutput(dataTable, element);\n",
              "        const docLink = document.createElement('div');\n",
              "        docLink.innerHTML = docLinkHtml;\n",
              "        element.appendChild(docLink);\n",
              "      }\n",
              "    </script>\n",
              "  </div>\n",
              "\n",
              "\n",
              "<div id=\"df-6633844c-ae8b-48af-874b-cc08df5a960a\">\n",
              "  <button class=\"colab-df-quickchart\" onclick=\"quickchart('df-6633844c-ae8b-48af-874b-cc08df5a960a')\"\n",
              "            title=\"Suggest charts\"\n",
              "            style=\"display:none;\">\n",
              "\n",
              "<svg xmlns=\"http://www.w3.org/2000/svg\" height=\"24px\"viewBox=\"0 0 24 24\"\n",
              "     width=\"24px\">\n",
              "    <g>\n",
              "        <path d=\"M19 3H5c-1.1 0-2 .9-2 2v14c0 1.1.9 2 2 2h14c1.1 0 2-.9 2-2V5c0-1.1-.9-2-2-2zM9 17H7v-7h2v7zm4 0h-2V7h2v10zm4 0h-2v-4h2v4z\"/>\n",
              "    </g>\n",
              "</svg>\n",
              "  </button>\n",
              "\n",
              "<style>\n",
              "  .colab-df-quickchart {\n",
              "      --bg-color: #E8F0FE;\n",
              "      --fill-color: #1967D2;\n",
              "      --hover-bg-color: #E2EBFA;\n",
              "      --hover-fill-color: #174EA6;\n",
              "      --disabled-fill-color: #AAA;\n",
              "      --disabled-bg-color: #DDD;\n",
              "  }\n",
              "\n",
              "  [theme=dark] .colab-df-quickchart {\n",
              "      --bg-color: #3B4455;\n",
              "      --fill-color: #D2E3FC;\n",
              "      --hover-bg-color: #434B5C;\n",
              "      --hover-fill-color: #FFFFFF;\n",
              "      --disabled-bg-color: #3B4455;\n",
              "      --disabled-fill-color: #666;\n",
              "  }\n",
              "\n",
              "  .colab-df-quickchart {\n",
              "    background-color: var(--bg-color);\n",
              "    border: none;\n",
              "    border-radius: 50%;\n",
              "    cursor: pointer;\n",
              "    display: none;\n",
              "    fill: var(--fill-color);\n",
              "    height: 32px;\n",
              "    padding: 0;\n",
              "    width: 32px;\n",
              "  }\n",
              "\n",
              "  .colab-df-quickchart:hover {\n",
              "    background-color: var(--hover-bg-color);\n",
              "    box-shadow: 0 1px 2px rgba(60, 64, 67, 0.3), 0 1px 3px 1px rgba(60, 64, 67, 0.15);\n",
              "    fill: var(--button-hover-fill-color);\n",
              "  }\n",
              "\n",
              "  .colab-df-quickchart-complete:disabled,\n",
              "  .colab-df-quickchart-complete:disabled:hover {\n",
              "    background-color: var(--disabled-bg-color);\n",
              "    fill: var(--disabled-fill-color);\n",
              "    box-shadow: none;\n",
              "  }\n",
              "\n",
              "  .colab-df-spinner {\n",
              "    border: 2px solid var(--fill-color);\n",
              "    border-color: transparent;\n",
              "    border-bottom-color: var(--fill-color);\n",
              "    animation:\n",
              "      spin 1s steps(1) infinite;\n",
              "  }\n",
              "\n",
              "  @keyframes spin {\n",
              "    0% {\n",
              "      border-color: transparent;\n",
              "      border-bottom-color: var(--fill-color);\n",
              "      border-left-color: var(--fill-color);\n",
              "    }\n",
              "    20% {\n",
              "      border-color: transparent;\n",
              "      border-left-color: var(--fill-color);\n",
              "      border-top-color: var(--fill-color);\n",
              "    }\n",
              "    30% {\n",
              "      border-color: transparent;\n",
              "      border-left-color: var(--fill-color);\n",
              "      border-top-color: var(--fill-color);\n",
              "      border-right-color: var(--fill-color);\n",
              "    }\n",
              "    40% {\n",
              "      border-color: transparent;\n",
              "      border-right-color: var(--fill-color);\n",
              "      border-top-color: var(--fill-color);\n",
              "    }\n",
              "    60% {\n",
              "      border-color: transparent;\n",
              "      border-right-color: var(--fill-color);\n",
              "    }\n",
              "    80% {\n",
              "      border-color: transparent;\n",
              "      border-right-color: var(--fill-color);\n",
              "      border-bottom-color: var(--fill-color);\n",
              "    }\n",
              "    90% {\n",
              "      border-color: transparent;\n",
              "      border-bottom-color: var(--fill-color);\n",
              "    }\n",
              "  }\n",
              "</style>\n",
              "\n",
              "  <script>\n",
              "    async function quickchart(key) {\n",
              "      const quickchartButtonEl =\n",
              "        document.querySelector('#' + key + ' button');\n",
              "      quickchartButtonEl.disabled = true;  // To prevent multiple clicks.\n",
              "      quickchartButtonEl.classList.add('colab-df-spinner');\n",
              "      try {\n",
              "        const charts = await google.colab.kernel.invokeFunction(\n",
              "            'suggestCharts', [key], {});\n",
              "      } catch (error) {\n",
              "        console.error('Error during call to suggestCharts:', error);\n",
              "      }\n",
              "      quickchartButtonEl.classList.remove('colab-df-spinner');\n",
              "      quickchartButtonEl.classList.add('colab-df-quickchart-complete');\n",
              "    }\n",
              "    (() => {\n",
              "      let quickchartButtonEl =\n",
              "        document.querySelector('#df-6633844c-ae8b-48af-874b-cc08df5a960a button');\n",
              "      quickchartButtonEl.style.display =\n",
              "        google.colab.kernel.accessAllowed ? 'block' : 'none';\n",
              "    })();\n",
              "  </script>\n",
              "</div>\n",
              "\n",
              "    </div>\n",
              "  </div>\n"
            ],
            "application/vnd.google.colaboratory.intrinsic+json": {
              "type": "dataframe",
              "variable_name": "df",
              "summary": "{\n  \"name\": \"df\",\n  \"rows\": 12579,\n  \"fields\": [\n    {\n      \"column\": \"id\",\n      \"properties\": {\n        \"dtype\": \"number\",\n        \"std\": 18205575.06899642,\n        \"min\": 108.0,\n        \"max\": 146030960.0,\n        \"num_unique_values\": 12579,\n        \"samples\": [\n          700531.0,\n          6270538.0,\n          3239491.0\n        ],\n        \"semantic_type\": \"\",\n        \"description\": \"\"\n      }\n    },\n    {\n      \"column\": \"smiles\",\n      \"properties\": {\n        \"dtype\": \"string\",\n        \"num_unique_values\": 12579,\n        \"samples\": [\n          \"O=C(O)[C@H](Cc1cnc[nH]1)N1C(=O)c2ccccc2C1=O\",\n          \"COc1ccc(CNC(=O)/C=C/c2ccc(OCCCF)cc2)cc1\",\n          \"CC(=O)NC(O)C(=O)c1ccco1\"\n        ],\n        \"semantic_type\": \"\",\n        \"description\": \"\"\n      }\n    },\n    {\n      \"column\": \"label\",\n      \"properties\": {\n        \"dtype\": \"number\",\n        \"std\": 0,\n        \"min\": 0,\n        \"max\": 1,\n        \"num_unique_values\": 2,\n        \"samples\": [\n          1,\n          0\n        ],\n        \"semantic_type\": \"\",\n        \"description\": \"\"\n      }\n    }\n  ]\n}"
            }
          },
          "metadata": {},
          "execution_count": 9
        }
      ]
    },
    {
      "cell_type": "markdown",
      "source": [
        "## SMILES parsing"
      ],
      "metadata": {
        "id": "W2g4LCJmwj2k"
      }
    },
    {
      "cell_type": "code",
      "source": [
        "def smiles_to_graph(smiles):\n",
        "    # Step 1: Parse SMILES\n",
        "    mol = Chem.MolFromSmiles(smiles)\n",
        "\n",
        "    # Initialize a graph object\n",
        "    graph = nx.Graph()\n",
        "\n",
        "    # Step 2: Add atoms as nodes\n",
        "    for atom in mol.GetAtoms():\n",
        "        node_id = atom.GetIdx()\n",
        "        graph.add_node(\n",
        "            node_id,\n",
        "            element=atom.GetSymbol(),\n",
        "            atomic_num=atom.GetAtomicNum(),\n",
        "            degree=atom.GetDegree(),\n",
        "            formal_charge=atom.GetFormalCharge(),\n",
        "            hybridization=str(atom.GetHybridization()),\n",
        "            is_aromatic=atom.GetIsAromatic()\n",
        "        )\n",
        "\n",
        "    # Step 3: Add bonds as edges\n",
        "    for bond in mol.GetBonds():\n",
        "        start_atom = bond.GetBeginAtomIdx()\n",
        "        end_atom = bond.GetEndAtomIdx()\n",
        "        bond_type = str(bond.GetBondType())  # e.g., SINGLE, DOUBLE, TRIPLE, AROMATIC\n",
        "        graph.add_edge(\n",
        "            start_atom, end_atom,\n",
        "            bond_type=bond_type,\n",
        "            is_conjugated=bond.GetIsConjugated(),\n",
        "            is_aromatic=bond.GetIsAromatic()\n",
        "        )\n",
        "\n",
        "    return graph"
      ],
      "metadata": {
        "id": "HFklucja-HmQ"
      },
      "execution_count": null,
      "outputs": []
    },
    {
      "cell_type": "code",
      "source": [
        "G = smiles_to_graph('CCCC(=O)Nc1ccc(N2CCN(CC)CC2)c(Cl)c1.Cl')\n",
        "nx.draw(G)"
      ],
      "metadata": {
        "colab": {
          "base_uri": "https://localhost:8080/",
          "height": 516
        },
        "id": "Y95zBl8_-K9B",
        "outputId": "0e4aa197-5daf-442e-bc68-08c9db70fba5"
      },
      "execution_count": null,
      "outputs": [
        {
          "output_type": "display_data",
          "data": {
            "text/plain": [
              "<Figure size 640x480 with 1 Axes>"
            ],
            "image/png": "[encoded data removed]"
          },
          "metadata": {}
        }
      ]
    },
    {
      "cell_type": "code",
      "source": [
        "for node, data in G.nodes(data=True):\n",
        "    print(node)\n",
        "    print(data)"
      ],
      "metadata": {
        "colab": {
          "base_uri": "https://localhost:8080/"
        },
        "id": "SHwsbaZ1_sAi",
        "outputId": "b9659285-878e-4275-9db3-049adba44a58"
      },
      "execution_count": null,
      "outputs": [
        {
          "output_type": "stream",
          "name": "stdout",
          "text": [
            "0\n",
            "{'element': 'C', 'atomic_num': 6, 'degree': 1, 'formal_charge': 0, 'hybridization': 'SP3', 'is_aromatic': False}\n",
            "1\n",
            "{'element': 'C', 'atomic_num': 6, 'degree': 2, 'formal_charge': 0, 'hybridization': 'SP3', 'is_aromatic': False}\n",
            "2\n",
            "{'element': 'C', 'atomic_num': 6, 'degree': 2, 'formal_charge': 0, 'hybridization': 'SP3', 'is_aromatic': False}\n",
            "3\n",
            "{'element': 'C', 'atomic_num': 6, 'degree': 3, 'formal_charge': 0, 'hybridization': 'SP2', 'is_aromatic': False}\n",
            "4\n",
            "{'element': 'O', 'atomic_num': 8, 'degree': 1, 'formal_charge': 0, 'hybridization': 'SP2', 'is_aromatic': False}\n",
            "5\n",
            "{'element': 'N', 'atomic_num': 7, 'degree': 2, 'formal_charge': 0, 'hybridization': 'SP2', 'is_aromatic': False}\n",
            "6\n",
            "{'element': 'C', 'atomic_num': 6, 'degree': 3, 'formal_charge': 0, 'hybridization': 'SP2', 'is_aromatic': True}\n",
            "7\n",
            "{'element': 'C', 'atomic_num': 6, 'degree': 2, 'formal_charge': 0, 'hybridization': 'SP2', 'is_aromatic': True}\n",
            "8\n",
            "{'element': 'C', 'atomic_num': 6, 'degree': 2, 'formal_charge': 0, 'hybridization': 'SP2', 'is_aromatic': True}\n",
            "9\n",
            "{'element': 'C', 'atomic_num': 6, 'degree': 3, 'formal_charge': 0, 'hybridization': 'SP2', 'is_aromatic': True}\n",
            "10\n",
            "{'element': 'N', 'atomic_num': 7, 'degree': 3, 'formal_charge': 0, 'hybridization': 'SP2', 'is_aromatic': False}\n",
            "11\n",
            "{'element': 'C', 'atomic_num': 6, 'degree': 2, 'formal_charge': 0, 'hybridization': 'SP3', 'is_aromatic': False}\n",
            "12\n",
            "{'element': 'C', 'atomic_num': 6, 'degree': 2, 'formal_charge': 0, 'hybridization': 'SP3', 'is_aromatic': False}\n",
            "13\n",
            "{'element': 'N', 'atomic_num': 7, 'degree': 3, 'formal_charge': 0, 'hybridization': 'SP3', 'is_aromatic': False}\n",
            "14\n",
            "{'element': 'C', 'atomic_num': 6, 'degree': 2, 'formal_charge': 0, 'hybridization': 'SP3', 'is_aromatic': False}\n",
            "15\n",
            "{'element': 'C', 'atomic_num': 6, 'degree': 1, 'formal_charge': 0, 'hybridization': 'SP3', 'is_aromatic': False}\n",
            "16\n",
            "{'element': 'C', 'atomic_num': 6, 'degree': 2, 'formal_charge': 0, 'hybridization': 'SP3', 'is_aromatic': False}\n",
            "17\n",
            "{'element': 'C', 'atomic_num': 6, 'degree': 2, 'formal_charge': 0, 'hybridization': 'SP3', 'is_aromatic': False}\n",
            "18\n",
            "{'element': 'C', 'atomic_num': 6, 'degree': 3, 'formal_charge': 0, 'hybridization': 'SP2', 'is_aromatic': True}\n",
            "19\n",
            "{'element': 'Cl', 'atomic_num': 17, 'degree': 1, 'formal_charge': 0, 'hybridization': 'SP3', 'is_aromatic': False}\n",
            "20\n",
            "{'element': 'C', 'atomic_num': 6, 'degree': 2, 'formal_charge': 0, 'hybridization': 'SP2', 'is_aromatic': True}\n",
            "21\n",
            "{'element': 'Cl', 'atomic_num': 17, 'degree': 0, 'formal_charge': 0, 'hybridization': 'SP3', 'is_aromatic': False}\n"
          ]
        }
      ]
    },
    {
      "cell_type": "markdown",
      "source": [
        "# SMILES featurization"
      ],
      "metadata": {
        "id": "TLIOvwDqw3wb"
      }
    },
    {
      "cell_type": "code",
      "source": [
        "class Featurizer:\n",
        "    def __init__(self, allowable_sets):\n",
        "        self.dim = 0\n",
        "        self.features_mapping = {}\n",
        "        # Iterate through all feature types\n",
        "        for k, s in allowable_sets.items():\n",
        "            s = sorted(list(s))\n",
        "            # Enumerate all feature values in separate dictionaries for each feature\n",
        "            self.features_mapping[k] = dict(zip(s, range(self.dim, len(s) + self.dim)))\n",
        "            # Set encoding size to summed numbers of all feature values\n",
        "            self.dim += len(s)\n",
        "\n",
        "    def encode(self, inputs):\n",
        "        # One-hot-style encoding of all separate features\n",
        "        output = np.zeros((self.dim,))\n",
        "        for name_feature, feature_mapping in self.features_mapping.items():\n",
        "            # Get all separate features\n",
        "            feature = getattr(self, name_feature)(inputs)\n",
        "            if feature not in feature_mapping:\n",
        "                continue\n",
        "            # Change encoding to 1 at a specific feature_mapping index\n",
        "            output[feature_mapping[feature]] = 1.0\n",
        "        return output\n",
        "\n",
        "\n",
        "class AtomFeaturizer(Featurizer):\n",
        "    def __init__(self, allowable_sets):\n",
        "        super().__init__(allowable_sets)\n",
        "\n",
        "    def symbol(self, atom):\n",
        "        return atom.GetSymbol()\n",
        "\n",
        "    def n_valence(self, atom):\n",
        "        return atom.GetTotalValence()\n",
        "\n",
        "    def n_hydrogens(self, atom):\n",
        "        return atom.GetTotalNumHs()\n",
        "\n",
        "    def hybridization(self, atom):\n",
        "        return atom.GetHybridization().name.lower()\n",
        "\n",
        "\n",
        "class BondFeaturizer(Featurizer):\n",
        "    def __init__(self, allowable_sets):\n",
        "        super().__init__(allowable_sets)\n",
        "        # Extra slot for self-loops\n",
        "        self.dim += 1\n",
        "\n",
        "    def encode(self, bond):\n",
        "        output = np.zeros((self.dim,))\n",
        "        if bond is None:\n",
        "            # Encode self-loop\n",
        "            output[-1] = 1.0\n",
        "            return output\n",
        "        output = super().encode(bond)\n",
        "        return output\n",
        "\n",
        "    def bond_type(self, bond):\n",
        "        return bond.GetBondType().name.lower()\n",
        "\n",
        "    def conjugated(self, bond):\n",
        "        return bond.GetIsConjugated()\n",
        "\n",
        "\n",
        "atom_featurizer = AtomFeaturizer(\n",
        "    allowable_sets={\n",
        "        \"symbol\": {\"B\", \"Br\", \"C\", \"Ca\", \"Cl\", \"F\", \"H\", \"I\", \"N\", \"Na\", \"O\", \"P\", \"S\"},\n",
        "        \"n_valence\": {0, 1, 2, 3, 4, 5, 6},\n",
        "        \"n_hydrogens\": {0, 1, 2, 3, 4},\n",
        "        \"hybridization\": {\"s\", \"sp\", \"sp2\", \"sp3\"},\n",
        "    }\n",
        ")\n",
        "\n",
        "bond_featurizer = BondFeaturizer(\n",
        "    allowable_sets={\n",
        "        \"bond_type\": {\"single\", \"double\", \"triple\", \"aromatic\"},\n",
        "        \"conjugated\": {True, False},\n",
        "    }\n",
        ")\n"
      ],
      "metadata": {
        "id": "Z3m2M_czuTAa"
      },
      "execution_count": null,
      "outputs": []
    },
    {
      "cell_type": "code",
      "source": [
        "bond_featurizer.features_mapping"
      ],
      "metadata": {
        "colab": {
          "base_uri": "https://localhost:8080/"
        },
        "id": "llu_3zUt3WzR",
        "outputId": "5ff7139f-0bee-40bf-818f-560f1563a120"
      },
      "execution_count": null,
      "outputs": [
        {
          "output_type": "execute_result",
          "data": {
            "text/plain": [
              "{'bond_type': {'aromatic': 0, 'double': 1, 'single': 2, 'triple': 3},\n",
              " 'conjugated': {False: 4, True: 5}}"
            ]
          },
          "metadata": {},
          "execution_count": 14
        }
      ]
    },
    {
      "cell_type": "markdown",
      "source": [
        "# Molecules to graphs"
      ],
      "metadata": {
        "id": "QP-_PIj3w-Aw"
      }
    },
    {
      "cell_type": "code",
      "source": [
        "from torch_geometric.data import Data\n",
        "\n",
        "\n",
        "def molecule_from_smiles(smiles):\n",
        "    # MolFromSmiles(m, sanitize=True) should be equivalent to\n",
        "    # MolFromSmiles(m, sanitize=False) -> SanitizeMol(m) -> AssignStereochemistry(m, ...)\n",
        "    molecule = Chem.MolFromSmiles(smiles, sanitize=False)\n",
        "\n",
        "    # If sanitization is unsuccessful, catch the error, and try again without\n",
        "    # the sanitization step that caused the error\n",
        "    flag = Chem.SanitizeMol(molecule, catchErrors=True)\n",
        "    if flag != Chem.SanitizeFlags.SANITIZE_NONE:\n",
        "        Chem.SanitizeMol(molecule, sanitizeOps=Chem.SanitizeFlags.SANITIZE_ALL ^ flag)\n",
        "\n",
        "    Chem.AssignStereochemistry(molecule, cleanIt=True, force=True)\n",
        "    return molecule\n",
        "\n",
        "\n",
        "def graph_from_molecule(molecule):\n",
        "    # Initialize graph\n",
        "    atom_features = []\n",
        "    pair_indices = []\n",
        "    bond_features = []\n",
        "\n",
        "    for atom in molecule.GetAtoms():\n",
        "        atom_features.append(atom_featurizer.encode(atom))\n",
        "\n",
        "        # Add self-loops\n",
        "        pair_indices.append([atom.GetIdx(), atom.GetIdx()])\n",
        "        bond_features.append(bond_featurizer.encode(None))\n",
        "\n",
        "        # Get all neighboring atoms (nodes) and bonds (edges)\n",
        "        for neighbor in atom.GetNeighbors():\n",
        "            bond = molecule.GetBondBetweenAtoms(atom.GetIdx(), neighbor.GetIdx())\n",
        "            pair_indices.append([atom.GetIdx(), neighbor.GetIdx()])\n",
        "            bond_features.append(bond_featurizer.encode(bond))\n",
        "\n",
        "    return np.array(atom_features), np.array(pair_indices).T, np.array(bond_features)\n",
        "\n",
        "\n",
        "def graphs_from_smiles(smiles_list, label_list):\n",
        "    # Initialize graphs\n",
        "    data_list = []\n",
        "\n",
        "    for smiles, label in zip(smiles_list, label_list):\n",
        "        molecule = molecule_from_smiles(smiles)\n",
        "        atom_features, pair_indices, bond_features = graph_from_molecule(molecule)\n",
        "\n",
        "        # Convert graphs to torch geometric Data\n",
        "        x = torch.tensor(atom_features, dtype=torch.float32)\n",
        "        edge_index = torch.tensor(pair_indices, dtype=torch.int64)\n",
        "        edge_attr = torch.tensor(bond_features, dtype=torch.float32)\n",
        "\n",
        "        data = Data(x=x, edge_index=edge_index, edge_attr=edge_attr, y=label)\n",
        "\n",
        "        # Prepare graphs for the loader\n",
        "        data_list.append(data)\n",
        "\n",
        "    return data_list"
      ],
      "metadata": {
        "id": "iQ-pYVix2JgE"
      },
      "execution_count": null,
      "outputs": []
    },
    {
      "cell_type": "code",
      "source": [
        "# Test SMILES parsing\n",
        "mol0 = molecule_from_smiles(df.smiles[0])\n",
        "mol0"
      ],
      "metadata": {
        "colab": {
          "base_uri": "https://localhost:8080/",
          "height": 167
        },
        "id": "QC3TPyvl6vxW",
        "outputId": "2d961e27-597b-409e-f1bd-baec5292faba"
      },
      "execution_count": null,
      "outputs": [
        {
          "output_type": "execute_result",
          "data": {
            "text/plain": [
              "<rdkit.Chem.rdchem.Mol at 0x79e453505bd0>"
            ],
            "image/png": "[encoded data removed]"
          },
          "metadata": {},
          "execution_count": 16
        }
      ]
    },
    {
      "cell_type": "code",
      "source": [
        "# Test graph creation\n",
        "graph = graph_from_molecule(mol0)\n",
        "print(\"Graph (including self-loops):\")\n",
        "print(\"\\tatom features\\t\", graph[0].shape)\n",
        "print(\"\\tpair indecies\\t\", graph[1].shape)\n",
        "print(\"\\tbond features\\t\", graph[2].shape)"
      ],
      "metadata": {
        "colab": {
          "base_uri": "https://localhost:8080/"
        },
        "id": "noFrSCGy7dAR",
        "outputId": "8a31367c-0c19-4259-a594-a8af6ffaa3f6"
      },
      "execution_count": null,
      "outputs": [
        {
          "output_type": "stream",
          "name": "stdout",
          "text": [
            "Graph (including self-loops):\n",
            "\tatom features\t (22, 29)\n",
            "\tpair indecies\t (2, 66)\n",
            "\tbond features\t (66, 7)\n"
          ]
        }
      ]
    },
    {
      "cell_type": "code",
      "source": [
        "# Test graph data creation\n",
        "graphs_test = graphs_from_smiles(df['smiles'][0:2], df['label'][0:2])\n",
        "print(graphs_test[0])\n",
        "print(graphs_test[0].validate(raise_on_error=True))\n",
        "print(graphs_test[1])\n",
        "print(graphs_test[1].validate(raise_on_error=True))\n",
        "print(graphs_test[0].keys())\n",
        "print(graphs_test[0].x)\n",
        "print(graphs_test[0].num_node_features)\n",
        "print(graphs_test[0].has_isolated_nodes())\n",
        "print(graphs_test[0].is_undirected())"
      ],
      "metadata": {
        "colab": {
          "base_uri": "https://localhost:8080/"
        },
        "id": "MrCy4zmIz23c",
        "outputId": "3c21ec06-24b7-4c93-d4f5-ffa0ec3ecd74"
      },
      "execution_count": null,
      "outputs": [
        {
          "output_type": "stream",
          "name": "stdout",
          "text": [
            "Data(x=[22, 29], edge_index=[2, 66], edge_attr=[66, 7], y=0)\n",
            "True\n",
            "Data(x=[34, 29], edge_index=[2, 110], edge_attr=[110, 7], y=1)\n",
            "True\n",
            "['edge_index', 'x', 'edge_attr', 'y']\n",
            "tensor([[0., 0., 1., 0., 0., 0., 0., 0., 0., 0., 0., 0., 0., 0., 0., 0., 0., 1.,\n",
            "         0., 0., 0., 0., 0., 1., 0., 0., 0., 0., 1.],\n",
            "        [0., 0., 1., 0., 0., 0., 0., 0., 0., 0., 0., 0., 0., 0., 0., 0., 0., 1.,\n",
            "         0., 0., 0., 0., 1., 0., 0., 0., 0., 0., 1.],\n",
            "        [0., 0., 1., 0., 0., 0., 0., 0., 0., 0., 0., 0., 0., 0., 0., 0., 0., 1.,\n",
            "         0., 0., 0., 0., 1., 0., 0., 0., 0., 0., 1.],\n",
            "        [0., 0., 1., 0., 0., 0., 0., 0., 0., 0., 0., 0., 0., 0., 0., 0., 0., 1.,\n",
            "         0., 0., 1., 0., 0., 0., 0., 0., 0., 1., 0.],\n",
            "        [0., 0., 0., 0., 0., 0., 0., 0., 0., 0., 1., 0., 0., 0., 0., 1., 0., 0.,\n",
            "         0., 0., 1., 0., 0., 0., 0., 0., 0., 1., 0.],\n",
            "        [0., 0., 0., 0., 0., 0., 0., 0., 1., 0., 0., 0., 0., 0., 0., 0., 1., 0.,\n",
            "         0., 0., 0., 1., 0., 0., 0., 0., 0., 1., 0.],\n",
            "        [0., 0., 1., 0., 0., 0., 0., 0., 0., 0., 0., 0., 0., 0., 0., 0., 0., 1.,\n",
            "         0., 0., 1., 0., 0., 0., 0., 0., 0., 1., 0.],\n",
            "        [0., 0., 1., 0., 0., 0., 0., 0., 0., 0., 0., 0., 0., 0., 0., 0., 0., 1.,\n",
            "         0., 0., 0., 1., 0., 0., 0., 0., 0., 1., 0.],\n",
            "        [0., 0., 1., 0., 0., 0., 0., 0., 0., 0., 0., 0., 0., 0., 0., 0., 0., 1.,\n",
            "         0., 0., 0., 1., 0., 0., 0., 0., 0., 1., 0.],\n",
            "        [0., 0., 1., 0., 0., 0., 0., 0., 0., 0., 0., 0., 0., 0., 0., 0., 0., 1.,\n",
            "         0., 0., 1., 0., 0., 0., 0., 0., 0., 1., 0.],\n",
            "        [0., 0., 0., 0., 0., 0., 0., 0., 1., 0., 0., 0., 0., 0., 0., 0., 1., 0.,\n",
            "         0., 0., 1., 0., 0., 0., 0., 0., 0., 1., 0.],\n",
            "        [0., 0., 1., 0., 0., 0., 0., 0., 0., 0., 0., 0., 0., 0., 0., 0., 0., 1.,\n",
            "         0., 0., 0., 0., 1., 0., 0., 0., 0., 0., 1.],\n",
            "        [0., 0., 1., 0., 0., 0., 0., 0., 0., 0., 0., 0., 0., 0., 0., 0., 0., 1.,\n",
            "         0., 0., 0., 0., 1., 0., 0., 0., 0., 0., 1.],\n",
            "        [0., 0., 0., 0., 0., 0., 0., 0., 1., 0., 0., 0., 0., 0., 0., 0., 1., 0.,\n",
            "         0., 0., 1., 0., 0., 0., 0., 0., 0., 0., 1.],\n",
            "        [0., 0., 1., 0., 0., 0., 0., 0., 0., 0., 0., 0., 0., 0., 0., 0., 0., 1.,\n",
            "         0., 0., 0., 0., 1., 0., 0., 0., 0., 0., 1.],\n",
            "        [0., 0., 1., 0., 0., 0., 0., 0., 0., 0., 0., 0., 0., 0., 0., 0., 0., 1.,\n",
            "         0., 0., 0., 0., 0., 1., 0., 0., 0., 0., 1.],\n",
            "        [0., 0., 1., 0., 0., 0., 0., 0., 0., 0., 0., 0., 0., 0., 0., 0., 0., 1.,\n",
            "         0., 0., 0., 0., 1., 0., 0., 0., 0., 0., 1.],\n",
            "        [0., 0., 1., 0., 0., 0., 0., 0., 0., 0., 0., 0., 0., 0., 0., 0., 0., 1.,\n",
            "         0., 0., 0., 0., 1., 0., 0., 0., 0., 0., 1.],\n",
            "        [0., 0., 1., 0., 0., 0., 0., 0., 0., 0., 0., 0., 0., 0., 0., 0., 0., 1.,\n",
            "         0., 0., 1., 0., 0., 0., 0., 0., 0., 1., 0.],\n",
            "        [0., 0., 0., 0., 1., 0., 0., 0., 0., 0., 0., 0., 0., 0., 1., 0., 0., 0.,\n",
            "         0., 0., 1., 0., 0., 0., 0., 0., 0., 0., 1.],\n",
            "        [0., 0., 1., 0., 0., 0., 0., 0., 0., 0., 0., 0., 0., 0., 0., 0., 0., 1.,\n",
            "         0., 0., 0., 1., 0., 0., 0., 0., 0., 1., 0.],\n",
            "        [0., 0., 0., 0., 1., 0., 0., 0., 0., 0., 0., 0., 0., 0., 1., 0., 0., 0.,\n",
            "         0., 0., 0., 1., 0., 0., 0., 0., 0., 0., 1.]])\n",
            "29\n",
            "True\n",
            "True\n"
          ]
        }
      ]
    },
    {
      "cell_type": "markdown",
      "source": [
        "# Prepare data"
      ],
      "metadata": {
        "id": "-LSSVowSFTq9"
      }
    },
    {
      "cell_type": "code",
      "source": [
        "from random import shuffle\n",
        "\n",
        "data_list = graphs_from_smiles(df['smiles'], df['label'])\n",
        "shuffle(data_list)\n",
        "len(data_list)"
      ],
      "metadata": {
        "colab": {
          "base_uri": "https://localhost:8080/"
        },
        "id": "CFgb868KmAeB",
        "outputId": "48564719-26f9-48c9-a0ed-f9675fed1379"
      },
      "execution_count": null,
      "outputs": [
        {
          "output_type": "execute_result",
          "data": {
            "text/plain": [
              "12579"
            ]
          },
          "metadata": {},
          "execution_count": 19
        }
      ]
    },
    {
      "cell_type": "markdown",
      "source": [
        "# Implementing the Graph Convolutional Network"
      ],
      "metadata": {
        "id": "ahW77jS33SQa"
      }
    },
    {
      "cell_type": "code",
      "source": [
        "from torch.nn import Linear\n",
        "import torch.nn.functional as F\n",
        "from torch_geometric.nn import GCNConv\n",
        "from torch_geometric.nn import global_mean_pool as gap, global_max_pool as gmp, global_add_pool as gdp\n",
        "\n",
        "\n",
        "class GCN(torch.nn.Module):\n",
        "    def __init__(self, embedding_size=64):\n",
        "        # Init parent\n",
        "        super(GCN, self).__init__()\n",
        "        torch.manual_seed(42)\n",
        "\n",
        "        # GCN layers\n",
        "        self.initial_conv = GCNConv(29, embedding_size)  # 29 features\n",
        "        self.conv1 = GCNConv(embedding_size, embedding_size)\n",
        "        self.conv2 = GCNConv(embedding_size, embedding_size)\n",
        "        # self.conv3 = GCNConv(embedding_size, embedding_size)\n",
        "\n",
        "        # Output layer\n",
        "        self.out = Linear(embedding_size, 2)  # Input size for joined gmp and gap, output size 2 for binary classification\n",
        "\n",
        "    def forward(self, x, edge_index, batch_index):\n",
        "        # First Conv layer\n",
        "        hidden = self.initial_conv(x, edge_index)\n",
        "        hidden = F.relu(hidden)  # TEST RELU\n",
        "\n",
        "        # Next conv layers\n",
        "        hidden = F.dropout(hidden, p=0.2, training=self.training)\n",
        "        hidden = self.conv1(hidden, edge_index)\n",
        "        hidden = F.relu(hidden)\n",
        "        hidden = F.dropout(hidden, p=0.2, training=self.training)\n",
        "        hidden = self.conv2(hidden, edge_index)\n",
        "        hidden = F.relu(hidden)\n",
        "        # hidden = self.conv3(hidden, edge_index)\n",
        "        # hidden = F.relu(hidden)\n",
        "\n",
        "        # Global pooling layer (stack different aggregations)\n",
        "        # hidden = torch.cat([gap(hidden, batch_index),\n",
        "        #                     gmp(hidden, batch_index)], dim=1) # Try global add pull\n",
        "        hidden = gdp(hidden, batch_index)\n",
        "\n",
        "        # Apply a final (linear) classifier\n",
        "        hidden = F.dropout(hidden, p=0.2, training=self.training)\n",
        "        out = self.out(hidden)\n",
        "\n",
        "        # Return sigmoid activation for binary classification\n",
        "        return F.softmax(out, dim=1), hidden\n",
        "\n",
        "model = GCN()\n",
        "print(model)\n",
        "print('Number of parameters: ', sum(p.numel() for p in model.parameters()))"
      ],
      "metadata": {
        "id": "0bEgAKa13RWJ",
        "colab": {
          "base_uri": "https://localhost:8080/"
        },
        "outputId": "c8d1ff65-844d-4e89-c4b7-86e3a4b52eb9"
      },
      "execution_count": null,
      "outputs": [
        {
          "output_type": "stream",
          "name": "stdout",
          "text": [
            "GCN(\n",
            "  (initial_conv): GCNConv(29, 64)\n",
            "  (conv1): GCNConv(64, 64)\n",
            "  (conv2): GCNConv(64, 64)\n",
            "  (out): Linear(in_features=64, out_features=2, bias=True)\n",
            ")\n",
            "Number of parameters:  10370\n"
          ]
        }
      ]
    },
    {
      "cell_type": "markdown",
      "source": [
        "# Train GCN model"
      ],
      "metadata": {
        "id": "TCwrZWfJC6Z8"
      }
    },
    {
      "cell_type": "code",
      "source": [
        "from torch_geometric.loader import DataLoader\n",
        "\n",
        "model = GCN()\n",
        "\n",
        "# Crossentropy loss\n",
        "optimizer = torch.optim.AdamW(model.parameters(), lr=0.0005, weight_decay=0.01)\n",
        "criterion = torch.nn.CrossEntropyLoss()\n",
        "\n",
        "# Use GPU for training\n",
        "device = torch.device(\"cuda:0\" if torch.cuda.is_available() else \"cpu\")\n",
        "model = model.to(device)\n",
        "print('Device type:', device)\n",
        "\n",
        "# Wrap data in a data loader\n",
        "data_size = len(data_list)\n",
        "NUM_GRAPHS_PER_BATCH = 64\n",
        "train_loader = DataLoader(data_list[:int(0.8*data_size)],\n",
        "                          batch_size=NUM_GRAPHS_PER_BATCH, shuffle=True)\n",
        "test_loader = DataLoader(data_list[int(0.8*data_size):],\n",
        "                         batch_size=NUM_GRAPHS_PER_BATCH, shuffle=True)\n",
        "\n",
        "def train(loader):\n",
        "    model.train()\n",
        "    # Iterate over the data\n",
        "    total_loss = 0.0\n",
        "    for batch in loader:\n",
        "        # Use GPU\n",
        "        optimizer.zero_grad()\n",
        "        batch.to(device)\n",
        "        # Passing the node features and the connection info\n",
        "        out, embedding = model(batch.x, batch.edge_index, batch.batch)\n",
        "        # Calculating the loss and gradients\n",
        "        loss = criterion(out, batch.y)\n",
        "        total_loss += loss.item()\n",
        "        loss.backward()\n",
        "        # Update using the gradients\n",
        "        optimizer.step()\n",
        "        # Reset gradient\n",
        "\n",
        "    return total_loss, embedding\n",
        "\n",
        "def test(loader):\n",
        "    model.eval()\n",
        "\n",
        "    correct = 0\n",
        "    for batch in loader:  # Iterate in batches over the training/test dataset.\n",
        "         batch.to(device)\n",
        "         out, h = model(batch.x, batch.edge_index, batch.batch)\n",
        "         pred = out.argmax(dim=1)  # Use the class with highest probability.\n",
        "         correct += int((pred == batch.y).sum())  # Check against ground-truth labels.\n",
        "\n",
        "    return correct / len(loader.dataset)  # Derive ratio of correct predictions.\n",
        "\n",
        "print('Starting training...')\n",
        "losses = []\n",
        "train_accuracy_list = []\n",
        "test_accuracy_list = []\n",
        "epochs = 50\n",
        "for epoch in range(epochs):\n",
        "    loss, h = train(train_loader)\n",
        "    losses.append(loss)\n",
        "    train_acc = test(train_loader)\n",
        "    train_accuracy_list.append(train_acc)\n",
        "    test_acc = test(test_loader)\n",
        "    test_accuracy_list.append(test_acc)\n",
        "    print(f'Epoch: {epoch+1} | Train loss: {loss:.4} | Train accuracy: {train_acc:.4} | Test accuracy: {test_acc:.4}')"
      ],
      "metadata": {
        "colab": {
          "base_uri": "https://localhost:8080/"
        },
        "id": "bd6BOtEVCmA-",
        "outputId": "3375c6b0-ed9d-438e-88f0-a2c0b6100f28"
      },
      "execution_count": null,
      "outputs": [
        {
          "output_type": "stream",
          "name": "stdout",
          "text": [
            "Device type: cuda:0\n",
            "Starting training...\n",
            "Epoch: 1 | Train loss: 95.26 | Train accuracy: 0.7319 | Test accuracy: 0.7361\n",
            "Epoch: 2 | Train loss: 88.13 | Train accuracy: 0.7633 | Test accuracy: 0.7635\n",
            "Epoch: 3 | Train loss: 86.28 | Train accuracy: 0.7714 | Test accuracy: 0.7647\n",
            "Epoch: 4 | Train loss: 84.66 | Train accuracy: 0.7763 | Test accuracy: 0.7731\n",
            "Epoch: 5 | Train loss: 84.02 | Train accuracy: 0.7766 | Test accuracy: 0.7659\n",
            "Epoch: 6 | Train loss: 83.81 | Train accuracy: 0.7816 | Test accuracy: 0.7715\n",
            "Epoch: 7 | Train loss: 83.25 | Train accuracy: 0.7774 | Test accuracy: 0.7901\n",
            "Epoch: 8 | Train loss: 82.97 | Train accuracy: 0.7897 | Test accuracy: 0.7874\n",
            "Epoch: 9 | Train loss: 82.23 | Train accuracy: 0.7904 | Test accuracy: 0.7866\n",
            "Epoch: 10 | Train loss: 82.38 | Train accuracy: 0.745 | Test accuracy: 0.7345\n",
            "Epoch: 11 | Train loss: 82.5 | Train accuracy: 0.7985 | Test accuracy: 0.7937\n",
            "Epoch: 12 | Train loss: 81.79 | Train accuracy: 0.7989 | Test accuracy: 0.7905\n",
            "Epoch: 13 | Train loss: 81.39 | Train accuracy: 0.8011 | Test accuracy: 0.7929\n",
            "Epoch: 14 | Train loss: 81.23 | Train accuracy: 0.8008 | Test accuracy: 0.7973\n",
            "Epoch: 15 | Train loss: 81.07 | Train accuracy: 0.7957 | Test accuracy: 0.7854\n",
            "Epoch: 16 | Train loss: 81.07 | Train accuracy: 0.792 | Test accuracy: 0.789\n",
            "Epoch: 17 | Train loss: 81.03 | Train accuracy: 0.788 | Test accuracy: 0.7798\n",
            "Epoch: 18 | Train loss: 80.54 | Train accuracy: 0.7976 | Test accuracy: 0.7985\n",
            "Epoch: 19 | Train loss: 80.64 | Train accuracy: 0.8047 | Test accuracy: 0.7981\n",
            "Epoch: 20 | Train loss: 80.6 | Train accuracy: 0.8055 | Test accuracy: 0.8009\n",
            "Epoch: 21 | Train loss: 80.65 | Train accuracy: 0.7994 | Test accuracy: 0.7981\n",
            "Epoch: 22 | Train loss: 80.6 | Train accuracy: 0.8067 | Test accuracy: 0.7993\n",
            "Epoch: 23 | Train loss: 80.38 | Train accuracy: 0.8073 | Test accuracy: 0.8052\n",
            "Epoch: 24 | Train loss: 80.44 | Train accuracy: 0.8013 | Test accuracy: 0.7945\n",
            "Epoch: 25 | Train loss: 79.99 | Train accuracy: 0.8009 | Test accuracy: 0.7981\n",
            "Epoch: 26 | Train loss: 80.19 | Train accuracy: 0.8019 | Test accuracy: 0.7957\n",
            "Epoch: 27 | Train loss: 79.95 | Train accuracy: 0.8076 | Test accuracy: 0.8025\n",
            "Epoch: 28 | Train loss: 79.45 | Train accuracy: 0.8097 | Test accuracy: 0.8021\n",
            "Epoch: 29 | Train loss: 79.85 | Train accuracy: 0.8116 | Test accuracy: 0.8048\n",
            "Epoch: 30 | Train loss: 79.94 | Train accuracy: 0.8133 | Test accuracy: 0.8056\n",
            "Epoch: 31 | Train loss: 79.59 | Train accuracy: 0.8108 | Test accuracy: 0.806\n",
            "Epoch: 32 | Train loss: 79.48 | Train accuracy: 0.8147 | Test accuracy: 0.8072\n",
            "Epoch: 33 | Train loss: 79.4 | Train accuracy: 0.8134 | Test accuracy: 0.8076\n",
            "Epoch: 34 | Train loss: 79.02 | Train accuracy: 0.8163 | Test accuracy: 0.8064\n",
            "Epoch: 35 | Train loss: 78.98 | Train accuracy: 0.8143 | Test accuracy: 0.8088\n",
            "Epoch: 36 | Train loss: 79.62 | Train accuracy: 0.8162 | Test accuracy: 0.8064\n",
            "Epoch: 37 | Train loss: 79.29 | Train accuracy: 0.8114 | Test accuracy: 0.8017\n",
            "Epoch: 38 | Train loss: 79.32 | Train accuracy: 0.8145 | Test accuracy: 0.8084\n",
            "Epoch: 39 | Train loss: 78.97 | Train accuracy: 0.8154 | Test accuracy: 0.8084\n",
            "Epoch: 40 | Train loss: 78.74 | Train accuracy: 0.8146 | Test accuracy: 0.8076\n",
            "Epoch: 41 | Train loss: 78.88 | Train accuracy: 0.8187 | Test accuracy: 0.8124\n",
            "Epoch: 42 | Train loss: 78.91 | Train accuracy: 0.8132 | Test accuracy: 0.8064\n",
            "Epoch: 43 | Train loss: 78.82 | Train accuracy: 0.8184 | Test accuracy: 0.8096\n",
            "Epoch: 44 | Train loss: 78.58 | Train accuracy: 0.8164 | Test accuracy: 0.8088\n",
            "Epoch: 45 | Train loss: 78.69 | Train accuracy: 0.8183 | Test accuracy: 0.8092\n",
            "Epoch: 46 | Train loss: 79.0 | Train accuracy: 0.8182 | Test accuracy: 0.8124\n",
            "Epoch: 47 | Train loss: 78.51 | Train accuracy: 0.8196 | Test accuracy: 0.8084\n",
            "Epoch: 48 | Train loss: 78.35 | Train accuracy: 0.8215 | Test accuracy: 0.8112\n",
            "Epoch: 49 | Train loss: 78.66 | Train accuracy: 0.8155 | Test accuracy: 0.8072\n",
            "Epoch: 50 | Train loss: 78.1 | Train accuracy: 0.8233 | Test accuracy: 0.8072\n",
            "Epoch: 51 | Train loss: 78.58 | Train accuracy: 0.8231 | Test accuracy: 0.8076\n",
            "Epoch: 52 | Train loss: 78.04 | Train accuracy: 0.8215 | Test accuracy: 0.8112\n",
            "Epoch: 53 | Train loss: 78.59 | Train accuracy: 0.8168 | Test accuracy: 0.808\n",
            "Epoch: 54 | Train loss: 78.01 | Train accuracy: 0.8208 | Test accuracy: 0.8108\n",
            "Epoch: 55 | Train loss: 78.17 | Train accuracy: 0.8177 | Test accuracy: 0.81\n",
            "Epoch: 56 | Train loss: 78.24 | Train accuracy: 0.8113 | Test accuracy: 0.8025\n",
            "Epoch: 57 | Train loss: 78.26 | Train accuracy: 0.8161 | Test accuracy: 0.8076\n",
            "Epoch: 58 | Train loss: 78.16 | Train accuracy: 0.8234 | Test accuracy: 0.8116\n",
            "Epoch: 59 | Train loss: 78.18 | Train accuracy: 0.8211 | Test accuracy: 0.8128\n",
            "Epoch: 60 | Train loss: 78.19 | Train accuracy: 0.821 | Test accuracy: 0.81\n",
            "Epoch: 61 | Train loss: 78.33 | Train accuracy: 0.8101 | Test accuracy: 0.8068\n",
            "Epoch: 62 | Train loss: 77.67 | Train accuracy: 0.8251 | Test accuracy: 0.8104\n",
            "Epoch: 63 | Train loss: 77.96 | Train accuracy: 0.8236 | Test accuracy: 0.8116\n",
            "Epoch: 64 | Train loss: 77.79 | Train accuracy: 0.827 | Test accuracy: 0.8116\n",
            "Epoch: 65 | Train loss: 78.05 | Train accuracy: 0.8183 | Test accuracy: 0.8056\n",
            "Epoch: 66 | Train loss: 77.8 | Train accuracy: 0.8246 | Test accuracy: 0.8116\n",
            "Epoch: 67 | Train loss: 77.37 | Train accuracy: 0.8263 | Test accuracy: 0.814\n",
            "Epoch: 68 | Train loss: 78.04 | Train accuracy: 0.8256 | Test accuracy: 0.8096\n",
            "Epoch: 69 | Train loss: 77.48 | Train accuracy: 0.8217 | Test accuracy: 0.8072\n",
            "Epoch: 70 | Train loss: 77.66 | Train accuracy: 0.8253 | Test accuracy: 0.8096\n",
            "Epoch: 71 | Train loss: 77.72 | Train accuracy: 0.8271 | Test accuracy: 0.8136\n",
            "Epoch: 72 | Train loss: 77.59 | Train accuracy: 0.827 | Test accuracy: 0.814\n",
            "Epoch: 73 | Train loss: 77.61 | Train accuracy: 0.8251 | Test accuracy: 0.8108\n",
            "Epoch: 74 | Train loss: 77.89 | Train accuracy: 0.8143 | Test accuracy: 0.8013\n",
            "Epoch: 75 | Train loss: 77.35 | Train accuracy: 0.8261 | Test accuracy: 0.812\n",
            "Epoch: 76 | Train loss: 77.47 | Train accuracy: 0.8246 | Test accuracy: 0.8112\n",
            "Epoch: 77 | Train loss: 77.53 | Train accuracy: 0.8199 | Test accuracy: 0.8041\n",
            "Epoch: 78 | Train loss: 77.05 | Train accuracy: 0.8049 | Test accuracy: 0.7882\n",
            "Epoch: 79 | Train loss: 77.61 | Train accuracy: 0.828 | Test accuracy: 0.8132\n",
            "Epoch: 80 | Train loss: 77.05 | Train accuracy: 0.817 | Test accuracy: 0.806\n",
            "Epoch: 81 | Train loss: 77.62 | Train accuracy: 0.8173 | Test accuracy: 0.8045\n",
            "Epoch: 82 | Train loss: 77.61 | Train accuracy: 0.8268 | Test accuracy: 0.8132\n",
            "Epoch: 83 | Train loss: 77.14 | Train accuracy: 0.8293 | Test accuracy: 0.8148\n",
            "Epoch: 84 | Train loss: 77.21 | Train accuracy: 0.827 | Test accuracy: 0.81\n",
            "Epoch: 85 | Train loss: 77.57 | Train accuracy: 0.8259 | Test accuracy: 0.8108\n",
            "Epoch: 86 | Train loss: 76.8 | Train accuracy: 0.8239 | Test accuracy: 0.8164\n",
            "Epoch: 87 | Train loss: 77.07 | Train accuracy: 0.8195 | Test accuracy: 0.8116\n",
            "Epoch: 88 | Train loss: 77.17 | Train accuracy: 0.8251 | Test accuracy: 0.8172\n",
            "Epoch: 89 | Train loss: 77.09 | Train accuracy: 0.827 | Test accuracy: 0.8112\n",
            "Epoch: 90 | Train loss: 77.11 | Train accuracy: 0.8249 | Test accuracy: 0.8108\n",
            "Epoch: 91 | Train loss: 77.15 | Train accuracy: 0.8281 | Test accuracy: 0.8148\n",
            "Epoch: 92 | Train loss: 76.8 | Train accuracy: 0.8318 | Test accuracy: 0.8108\n",
            "Epoch: 93 | Train loss: 76.98 | Train accuracy: 0.8309 | Test accuracy: 0.8136\n",
            "Epoch: 94 | Train loss: 77.11 | Train accuracy: 0.8293 | Test accuracy: 0.8116\n",
            "Epoch: 95 | Train loss: 77.09 | Train accuracy: 0.8251 | Test accuracy: 0.81\n",
            "Epoch: 96 | Train loss: 76.87 | Train accuracy: 0.8317 | Test accuracy: 0.8136\n",
            "Epoch: 97 | Train loss: 76.84 | Train accuracy: 0.83 | Test accuracy: 0.8128\n",
            "Epoch: 98 | Train loss: 76.9 | Train accuracy: 0.8177 | Test accuracy: 0.8064\n",
            "Epoch: 99 | Train loss: 77.11 | Train accuracy: 0.8292 | Test accuracy: 0.8144\n",
            "Epoch: 100 | Train loss: 76.71 | Train accuracy: 0.8309 | Test accuracy: 0.816\n"
          ]
        }
      ]
    },
    {
      "cell_type": "code",
      "source": [
        "#losses = [loss.cpu().detach().numpy() for loss in losses]\n",
        "plt.plot(losses, 'b', label='Train loss')\n",
        "plt.legend()\n",
        "plt.show()"
      ],
      "metadata": {
        "colab": {
          "base_uri": "https://localhost:8080/",
          "height": 430
        },
        "id": "9rSsn9qX-1Mq",
        "outputId": "f0203c1e-4890-4442-88e7-c3f8d6f20151"
      },
      "execution_count": null,
      "outputs": [
        {
          "output_type": "display_data",
          "data": {
            "text/plain": [
              "<Figure size 640x480 with 1 Axes>"
            ],
            "image/png": "[encoded data removed]"
          },
          "metadata": {}
        }
      ]
    },
    {
      "cell_type": "code",
      "source": [
        "plt.plot(train_accuracy_list, 'g', label='Train accuracy')\n",
        "plt.plot(test_accuracy_list, 'r', label='Test accuracy')\n",
        "plt.legend()\n",
        "plt.show()"
      ],
      "metadata": {
        "colab": {
          "base_uri": "https://localhost:8080/",
          "height": 430
        },
        "id": "FYO-B64vaU31",
        "outputId": "c49c20a8-6436-44c6-be34-3e389cfc1b5a"
      },
      "execution_count": null,
      "outputs": [
        {
          "output_type": "display_data",
          "data": {
            "text/plain": [
              "<Figure size 640x480 with 1 Axes>"
            ],
            "image/png": "[encoded data removed]"
          },
          "metadata": {}
        }
      ]
    },
    {
      "cell_type": "markdown",
      "source": [
        "#Implement NNConv network"
      ],
      "metadata": {
        "id": "22S0qCVsr0U9"
      }
    },
    {
      "cell_type": "code",
      "source": [
        "from torch.nn import Linear, Sequential, ReLU\n",
        "import torch.nn.functional as F\n",
        "from torch_geometric.nn import NNConv, BatchNorm\n",
        "from torch_geometric.nn import global_mean_pool as gap, global_max_pool as gmp, global_add_pool as gdp\n",
        "\n",
        "\n",
        "class Edge_NN(torch.nn.Module):\n",
        "    def __init__(self, embedding_size=64):\n",
        "        # Init parent\n",
        "        super(Edge_NN, self).__init__()\n",
        "        torch.manual_seed(42)\n",
        "\n",
        "        # Mapping layer for NNConv\n",
        "        mlp = Sequential(Linear(7, 7), ReLU(), Linear(7, 29 * embedding_size)) # maps to in_channels * out_channels\n",
        "\n",
        "        # NNLayer\n",
        "        self.conv1 = NNConv(29, embedding_size, mlp)\n",
        "        # self.conv1_bn = BatchNorm(embedding_size)\n",
        "\n",
        "        # Next message passing layers\n",
        "        self.conv2 = GCNConv(embedding_size, embedding_size)\n",
        "        # self.conv2_bn = BatchNorm(embedding_size)\n",
        "\n",
        "        # Output layer\n",
        "        self.out = Linear(embedding_size, 2)  # Input size for joined gmp and gap, output size 2 for binary classification\n",
        "\n",
        "    def forward(self, x, edge_index, edge_attr, batch_index):\n",
        "\n",
        "        hidden = self.conv1(x, edge_index, edge_attr)\n",
        "        # hidden = self.conv1_bn(hidden)\n",
        "        hidden = F.relu(hidden)\n",
        "\n",
        "        hidden = F.dropout(hidden, p=0.3, training=self.training)\n",
        "\n",
        "        hidden = self.conv2(hidden, edge_index)\n",
        "        # hidden = self.conv2_bn(hidden)\n",
        "        hidden = F.relu(hidden)\n",
        "\n",
        "        # Apply global add pulling\n",
        "        hidden = gdp(hidden, batch_index)  # Try other pulling layers\n",
        "\n",
        "        # Apply a final (linear) classifier\n",
        "        hidden = F.dropout(hidden, p=0.3, training=self.training)\n",
        "        out = self.out(hidden)\n",
        "\n",
        "        # Return sigmoid activation for binary classification\n",
        "        return F.softmax(out, dim=1), hidden\n",
        "\n",
        "model = Edge_NN()\n",
        "print(model)\n",
        "print('Number of parameters: ', sum(p.numel() for p in model.parameters()))"
      ],
      "metadata": {
        "colab": {
          "base_uri": "https://localhost:8080/"
        },
        "outputId": "83ad63c5-6575-4407-e2a8-ea6bcfc856a4",
        "id": "N9bUTdPvjhiz"
      },
      "execution_count": null,
      "outputs": [
        {
          "output_type": "stream",
          "name": "stdout",
          "text": [
            "Edge_NN(\n",
            "  (conv1): NNConv(29, 64, aggr=add, nn=Sequential(\n",
            "    (0): Linear(in_features=7, out_features=7, bias=True)\n",
            "    (1): ReLU()\n",
            "    (2): Linear(in_features=7, out_features=1856, bias=True)\n",
            "  ))\n",
            "  (conv2): GCNConv(64, 64)\n",
            "  (out): Linear(in_features=64, out_features=2, bias=True)\n",
            ")\n",
            "Number of parameters:  21114\n"
          ]
        }
      ]
    },
    {
      "cell_type": "markdown",
      "source": [
        "#Train the NNConv network"
      ],
      "metadata": {
        "id": "8wRHiaEfsErd"
      }
    },
    {
      "cell_type": "code",
      "source": [
        "from torch_geometric.loader import DataLoader\n",
        "\n",
        "model = Edge_NN()\n",
        "\n",
        "# Crossentropy loss\n",
        "optimizer = torch.optim.AdamW(model.parameters(), lr=0.0005, weight_decay=0.01)\n",
        "criterion = torch.nn.CrossEntropyLoss()\n",
        "\n",
        "# Use GPU for training\n",
        "device = torch.device(\"cuda:0\" if torch.cuda.is_available() else \"cpu\")\n",
        "model = model.to(device)\n",
        "print('Device type:', device)\n",
        "\n",
        "# Wrap data in a data loader\n",
        "data_size = len(data_list)\n",
        "NUM_GRAPHS_PER_BATCH = 64\n",
        "train_loader = DataLoader(data_list[:int(0.8*data_size)],\n",
        "                          batch_size=NUM_GRAPHS_PER_BATCH, shuffle=True)\n",
        "test_loader = DataLoader(data_list[int(0.8*data_size):],\n",
        "                         batch_size=NUM_GRAPHS_PER_BATCH, shuffle=True)\n",
        "\n",
        "def train(loader):\n",
        "    model.train()\n",
        "    # Iterate over the data\n",
        "    total_loss = 0.0\n",
        "    for batch in loader:\n",
        "        # Reset gradient\n",
        "        optimizer.zero_grad()\n",
        "        # Use GPU\n",
        "        batch.to(device)\n",
        "        # Passing the node features and the connection info\n",
        "        out, embedding = model(batch.x, batch.edge_index, batch.edge_attr, batch.batch)\n",
        "        # Calculating the loss and gradients\n",
        "        loss = criterion(out, batch.y)\n",
        "        total_loss += loss.item()\n",
        "        loss.backward()\n",
        "        # Update using the gradients\n",
        "        optimizer.step()\n",
        "\n",
        "\n",
        "    return total_loss, embedding\n",
        "\n",
        "def test(loader):\n",
        "    model.eval()\n",
        "\n",
        "    correct = 0\n",
        "    for batch in loader:  # Iterate in batches over the training/test dataset.\n",
        "         batch.to(device)\n",
        "         out, h = model(batch.x, batch.edge_index, batch.edge_attr, batch.batch)\n",
        "         pred = out.argmax(dim=1)  # Use the class with highest probability.\n",
        "         correct += int((pred == batch.y).sum())  # Check against ground-truth labels.\n",
        "\n",
        "    return correct / len(loader.dataset)  # Derive ratio of correct predictions.\n",
        "\n",
        "print('Starting training...')\n",
        "losses = []\n",
        "train_accuracy_list = []\n",
        "test_accuracy_list = []\n",
        "epochs = 100\n",
        "for epoch in range(epochs):\n",
        "    loss, h = train(train_loader)\n",
        "    losses.append(loss)\n",
        "    train_acc = test(train_loader)\n",
        "    train_accuracy_list.append(train_acc)\n",
        "    test_acc = test(test_loader)\n",
        "    test_accuracy_list.append(test_acc)\n",
        "    print(f'Epoch: {epoch+1} | Train loss: {loss:.4} | Train accuracy: {train_acc:.4} | Test accuracy: {test_acc:.4}')"
      ],
      "metadata": {
        "colab": {
          "base_uri": "https://localhost:8080/"
        },
        "outputId": "91638c0f-0a3a-4080-dd0f-26d25207a9c1",
        "id": "6Jw9nq2srSiT"
      },
      "execution_count": null,
      "outputs": [
        {
          "output_type": "stream",
          "name": "stdout",
          "text": [
            "Device type: cuda:0\n",
            "Starting training...\n",
            "Epoch: 1 | Train loss: 105.3 | Train accuracy: 0.7141 | Test accuracy: 0.7234\n",
            "Epoch: 2 | Train loss: 94.11 | Train accuracy: 0.7323 | Test accuracy: 0.7369\n",
            "Epoch: 3 | Train loss: 91.03 | Train accuracy: 0.7558 | Test accuracy: 0.7568\n",
            "Epoch: 4 | Train loss: 89.25 | Train accuracy: 0.7568 | Test accuracy: 0.7603\n",
            "Epoch: 5 | Train loss: 87.52 | Train accuracy: 0.7749 | Test accuracy: 0.7711\n",
            "Epoch: 6 | Train loss: 85.84 | Train accuracy: 0.7794 | Test accuracy: 0.7842\n",
            "Epoch: 7 | Train loss: 84.71 | Train accuracy: 0.786 | Test accuracy: 0.7798\n",
            "Epoch: 8 | Train loss: 84.06 | Train accuracy: 0.7831 | Test accuracy: 0.7846\n",
            "Epoch: 9 | Train loss: 82.92 | Train accuracy: 0.7885 | Test accuracy: 0.7882\n",
            "Epoch: 10 | Train loss: 82.52 | Train accuracy: 0.7991 | Test accuracy: 0.7874\n",
            "Epoch: 11 | Train loss: 81.72 | Train accuracy: 0.7965 | Test accuracy: 0.7882\n",
            "Epoch: 12 | Train loss: 81.2 | Train accuracy: 0.8023 | Test accuracy: 0.7953\n",
            "Epoch: 13 | Train loss: 80.96 | Train accuracy: 0.8046 | Test accuracy: 0.7969\n",
            "Epoch: 14 | Train loss: 80.96 | Train accuracy: 0.8021 | Test accuracy: 0.7985\n",
            "Epoch: 15 | Train loss: 80.51 | Train accuracy: 0.8068 | Test accuracy: 0.7981\n",
            "Epoch: 16 | Train loss: 80.88 | Train accuracy: 0.8069 | Test accuracy: 0.7989\n",
            "Epoch: 17 | Train loss: 80.45 | Train accuracy: 0.8078 | Test accuracy: 0.8029\n",
            "Epoch: 18 | Train loss: 80.14 | Train accuracy: 0.8096 | Test accuracy: 0.8029\n",
            "Epoch: 19 | Train loss: 79.88 | Train accuracy: 0.8116 | Test accuracy: 0.8048\n",
            "Epoch: 20 | Train loss: 79.75 | Train accuracy: 0.813 | Test accuracy: 0.8088\n",
            "Epoch: 21 | Train loss: 79.65 | Train accuracy: 0.8007 | Test accuracy: 0.783\n",
            "Epoch: 22 | Train loss: 79.49 | Train accuracy: 0.8126 | Test accuracy: 0.8041\n",
            "Epoch: 23 | Train loss: 79.22 | Train accuracy: 0.8108 | Test accuracy: 0.8056\n",
            "Epoch: 24 | Train loss: 79.53 | Train accuracy: 0.815 | Test accuracy: 0.8072\n",
            "Epoch: 25 | Train loss: 78.87 | Train accuracy: 0.816 | Test accuracy: 0.8021\n",
            "Epoch: 26 | Train loss: 79.1 | Train accuracy: 0.816 | Test accuracy: 0.8096\n",
            "Epoch: 27 | Train loss: 78.9 | Train accuracy: 0.815 | Test accuracy: 0.8088\n",
            "Epoch: 28 | Train loss: 78.91 | Train accuracy: 0.8199 | Test accuracy: 0.8188\n",
            "Epoch: 29 | Train loss: 78.78 | Train accuracy: 0.8212 | Test accuracy: 0.8132\n",
            "Epoch: 30 | Train loss: 78.46 | Train accuracy: 0.8191 | Test accuracy: 0.8021\n",
            "Epoch: 31 | Train loss: 78.13 | Train accuracy: 0.8209 | Test accuracy: 0.8132\n",
            "Epoch: 32 | Train loss: 78.55 | Train accuracy: 0.8238 | Test accuracy: 0.816\n",
            "Epoch: 33 | Train loss: 78.27 | Train accuracy: 0.8211 | Test accuracy: 0.814\n",
            "Epoch: 34 | Train loss: 77.77 | Train accuracy: 0.8223 | Test accuracy: 0.812\n",
            "Epoch: 35 | Train loss: 77.84 | Train accuracy: 0.8233 | Test accuracy: 0.8136\n",
            "Epoch: 36 | Train loss: 77.9 | Train accuracy: 0.8234 | Test accuracy: 0.8152\n",
            "Epoch: 37 | Train loss: 78.05 | Train accuracy: 0.826 | Test accuracy: 0.8152\n",
            "Epoch: 38 | Train loss: 77.95 | Train accuracy: 0.8265 | Test accuracy: 0.818\n",
            "Epoch: 39 | Train loss: 77.88 | Train accuracy: 0.8278 | Test accuracy: 0.8207\n",
            "Epoch: 40 | Train loss: 77.81 | Train accuracy: 0.8227 | Test accuracy: 0.8045\n",
            "Epoch: 41 | Train loss: 77.32 | Train accuracy: 0.8267 | Test accuracy: 0.816\n",
            "Epoch: 42 | Train loss: 77.54 | Train accuracy: 0.8267 | Test accuracy: 0.814\n",
            "Epoch: 43 | Train loss: 77.55 | Train accuracy: 0.8307 | Test accuracy: 0.8223\n",
            "Epoch: 44 | Train loss: 77.91 | Train accuracy: 0.8295 | Test accuracy: 0.8211\n",
            "Epoch: 45 | Train loss: 77.25 | Train accuracy: 0.8309 | Test accuracy: 0.8219\n",
            "Epoch: 46 | Train loss: 77.51 | Train accuracy: 0.8214 | Test accuracy: 0.8084\n",
            "Epoch: 47 | Train loss: 77.34 | Train accuracy: 0.8294 | Test accuracy: 0.8172\n",
            "Epoch: 48 | Train loss: 77.09 | Train accuracy: 0.8288 | Test accuracy: 0.8196\n",
            "Epoch: 49 | Train loss: 77.15 | Train accuracy: 0.8318 | Test accuracy: 0.8223\n",
            "Epoch: 50 | Train loss: 76.49 | Train accuracy: 0.8331 | Test accuracy: 0.8219\n",
            "Epoch: 51 | Train loss: 77.21 | Train accuracy: 0.8347 | Test accuracy: 0.8215\n",
            "Epoch: 52 | Train loss: 76.94 | Train accuracy: 0.8329 | Test accuracy: 0.8176\n",
            "Epoch: 53 | Train loss: 76.74 | Train accuracy: 0.8302 | Test accuracy: 0.8223\n",
            "Epoch: 54 | Train loss: 76.93 | Train accuracy: 0.8302 | Test accuracy: 0.8172\n",
            "Epoch: 55 | Train loss: 76.62 | Train accuracy: 0.8301 | Test accuracy: 0.818\n",
            "Epoch: 56 | Train loss: 76.11 | Train accuracy: 0.8351 | Test accuracy: 0.8271\n",
            "Epoch: 57 | Train loss: 76.67 | Train accuracy: 0.8347 | Test accuracy: 0.8255\n",
            "Epoch: 58 | Train loss: 76.74 | Train accuracy: 0.8325 | Test accuracy: 0.8211\n",
            "Epoch: 59 | Train loss: 76.56 | Train accuracy: 0.8334 | Test accuracy: 0.8215\n",
            "Epoch: 60 | Train loss: 76.58 | Train accuracy: 0.8328 | Test accuracy: 0.8196\n",
            "Epoch: 61 | Train loss: 76.52 | Train accuracy: 0.8368 | Test accuracy: 0.8259\n",
            "Epoch: 62 | Train loss: 76.35 | Train accuracy: 0.8346 | Test accuracy: 0.818\n",
            "Epoch: 63 | Train loss: 76.08 | Train accuracy: 0.8377 | Test accuracy: 0.8235\n",
            "Epoch: 64 | Train loss: 75.97 | Train accuracy: 0.8325 | Test accuracy: 0.8164\n",
            "Epoch: 65 | Train loss: 76.29 | Train accuracy: 0.8388 | Test accuracy: 0.8243\n",
            "Epoch: 66 | Train loss: 76.01 | Train accuracy: 0.8249 | Test accuracy: 0.8108\n",
            "Epoch: 67 | Train loss: 76.22 | Train accuracy: 0.8354 | Test accuracy: 0.8184\n",
            "Epoch: 68 | Train loss: 76.24 | Train accuracy: 0.837 | Test accuracy: 0.8192\n",
            "Epoch: 69 | Train loss: 76.04 | Train accuracy: 0.8403 | Test accuracy: 0.8235\n",
            "Epoch: 70 | Train loss: 75.84 | Train accuracy: 0.8365 | Test accuracy: 0.8203\n",
            "Epoch: 71 | Train loss: 76.11 | Train accuracy: 0.837 | Test accuracy: 0.8184\n",
            "Epoch: 72 | Train loss: 75.9 | Train accuracy: 0.8394 | Test accuracy: 0.8235\n",
            "Epoch: 73 | Train loss: 75.84 | Train accuracy: 0.8372 | Test accuracy: 0.8188\n",
            "Epoch: 74 | Train loss: 76.12 | Train accuracy: 0.836 | Test accuracy: 0.8207\n",
            "Epoch: 75 | Train loss: 76.0 | Train accuracy: 0.8401 | Test accuracy: 0.8235\n",
            "Epoch: 76 | Train loss: 76.07 | Train accuracy: 0.8422 | Test accuracy: 0.8227\n",
            "Epoch: 77 | Train loss: 75.94 | Train accuracy: 0.8409 | Test accuracy: 0.8235\n",
            "Epoch: 78 | Train loss: 75.79 | Train accuracy: 0.8407 | Test accuracy: 0.8227\n",
            "Epoch: 79 | Train loss: 75.83 | Train accuracy: 0.8377 | Test accuracy: 0.8207\n",
            "Epoch: 80 | Train loss: 75.8 | Train accuracy: 0.8389 | Test accuracy: 0.8211\n",
            "Epoch: 81 | Train loss: 75.27 | Train accuracy: 0.8436 | Test accuracy: 0.8243\n",
            "Epoch: 82 | Train loss: 75.23 | Train accuracy: 0.8438 | Test accuracy: 0.8255\n",
            "Epoch: 83 | Train loss: 75.53 | Train accuracy: 0.8422 | Test accuracy: 0.8227\n",
            "Epoch: 84 | Train loss: 75.13 | Train accuracy: 0.8402 | Test accuracy: 0.8219\n",
            "Epoch: 85 | Train loss: 75.55 | Train accuracy: 0.8396 | Test accuracy: 0.8196\n",
            "Epoch: 86 | Train loss: 75.92 | Train accuracy: 0.8415 | Test accuracy: 0.8211\n",
            "Epoch: 87 | Train loss: 75.62 | Train accuracy: 0.8443 | Test accuracy: 0.8192\n",
            "Epoch: 88 | Train loss: 75.31 | Train accuracy: 0.845 | Test accuracy: 0.82\n",
            "Epoch: 89 | Train loss: 75.4 | Train accuracy: 0.8452 | Test accuracy: 0.8255\n",
            "Epoch: 90 | Train loss: 75.48 | Train accuracy: 0.843 | Test accuracy: 0.8259\n",
            "Epoch: 91 | Train loss: 75.23 | Train accuracy: 0.8443 | Test accuracy: 0.8259\n",
            "Epoch: 92 | Train loss: 75.05 | Train accuracy: 0.8433 | Test accuracy: 0.8223\n",
            "Epoch: 93 | Train loss: 75.15 | Train accuracy: 0.8438 | Test accuracy: 0.8243\n",
            "Epoch: 94 | Train loss: 75.21 | Train accuracy: 0.8353 | Test accuracy: 0.8156\n",
            "Epoch: 95 | Train loss: 75.2 | Train accuracy: 0.8457 | Test accuracy: 0.8263\n",
            "Epoch: 96 | Train loss: 75.13 | Train accuracy: 0.8455 | Test accuracy: 0.8283\n",
            "Epoch: 97 | Train loss: 75.08 | Train accuracy: 0.8432 | Test accuracy: 0.8251\n",
            "Epoch: 98 | Train loss: 75.33 | Train accuracy: 0.843 | Test accuracy: 0.8243\n",
            "Epoch: 99 | Train loss: 74.93 | Train accuracy: 0.8471 | Test accuracy: 0.8239\n",
            "Epoch: 100 | Train loss: 74.88 | Train accuracy: 0.8434 | Test accuracy: 0.8219\n"
          ]
        }
      ]
    },
    {
      "cell_type": "code",
      "source": [
        "#losses = [loss.cpu().detach().numpy() for loss in losses]\n",
        "plt.plot(losses, 'b', label='Train loss')\n",
        "plt.legend()\n",
        "plt.show()"
      ],
      "metadata": {
        "colab": {
          "base_uri": "https://localhost:8080/",
          "height": 430
        },
        "outputId": "65d8e9f2-4751-4699-cc53-6a8afa1e2e31",
        "id": "zjyUmMMZtBhg"
      },
      "execution_count": null,
      "outputs": [
        {
          "output_type": "display_data",
          "data": {
            "text/plain": [
              "<Figure size 640x480 with 1 Axes>"
            ],
            "image/png": "[encoded data removed]"
          },
          "metadata": {}
        }
      ]
    },
    {
      "cell_type": "code",
      "source": [
        "plt.plot(train_accuracy_list, 'g', label='Train accuracy')\n",
        "plt.plot(test_accuracy_list, 'r', label='Test accuracy')\n",
        "plt.legend()\n",
        "plt.show()"
      ],
      "metadata": {
        "colab": {
          "base_uri": "https://localhost:8080/",
          "height": 430
        },
        "outputId": "ea008c1f-fbcf-4cf9-bd7e-6cff45fc7a87",
        "id": "nF4D_cGstJii"
      },
      "execution_count": null,
      "outputs": [
        {
          "output_type": "display_data",
          "data": {
            "text/plain": [
              "<Figure size 640x480 with 1 Axes>"
            ],
            "image/png": "[encoded data removed]"
          },
          "metadata": {}
        }
      ]
    },
    {
      "cell_type": "markdown",
      "source": [
        "# Hyperparameter optimization"
      ],
      "metadata": {
        "id": "0oqBQhf6EYb_"
      }
    },
    {
      "cell_type": "code",
      "source": [
        "model = Edge_NN()\n",
        "\n",
        "# Optimizer param grid\n",
        "param_grid = {\n",
        "    'lr': [0.0001, 0.0005, 0.001, 0.01],\n",
        "    'eps': [1e-8, 1e-7, 1e-6],\n",
        "    'betas': [(0.9, 0.99), (0.9, 0.98), (0.8, 0.99), (0.8, 0.98)]\n",
        "}\n",
        "\n",
        "optimizer = torch.optim.AdamW(model.parameters(), lr=0.0005, weight_decay=0.01)\n",
        "# Crossentropy loss\n",
        "criterion = torch.nn.CrossEntropyLoss()\n",
        "\n",
        "# Use GPU for training\n",
        "device = torch.device(\"cuda:0\" if torch.cuda.is_available() else \"cpu\")\n",
        "model = model.to(device)\n",
        "print('Device type:', device)\n",
        "\n",
        "\n",
        "print('Starting training...')\n",
        "for param in grid:\n",
        "\n",
        "    epochs = 100\n",
        "    for epoch in range(epochs):\n",
        "        loss, h = train(train_loader)\n",
        "        losses.append(loss)\n",
        "        train_acc = test(train_loader)\n",
        "        train_accuracy_list.append(train_acc)\n",
        "        test_acc = test(test_loader)\n",
        "        test_accuracy_list.append(test_acc)\n",
        "        if epoch % 25 == 0:\n",
        "            print(f'Epoch: {epoch+1} | Train loss: {loss:.4} | Train accuracy: {train_acc:.4} | Test accuracy: {test_acc:.4}')"
      ],
      "metadata": {
        "id": "EyT2eEEbEX4a"
      },
      "execution_count": null,
      "outputs": []
    }
  ]
}